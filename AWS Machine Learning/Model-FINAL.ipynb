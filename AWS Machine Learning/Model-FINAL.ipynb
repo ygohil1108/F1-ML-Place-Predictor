{
 "cells": [
  {
   "cell_type": "code",
   "execution_count": 1,
   "id": "9f5f22f6",
   "metadata": {},
   "outputs": [
    {
     "name": "stdout",
     "output_type": "stream",
     "text": [
      "Looking in indexes: https://pypi.org/simple, https://pip.repos.neuron.amazonaws.com\n",
      "Collecting scikit-learn==1.3.0\n",
      "  Downloading scikit_learn-1.3.0-cp310-cp310-manylinux_2_17_x86_64.manylinux2014_x86_64.whl (10.8 MB)\n",
      "\u001b[2K     \u001b[90m━━━━━━━━━━━━━━━━━━━━━━━━━━━━━━━━━━━━━━━━\u001b[0m \u001b[32m10.8/10.8 MB\u001b[0m \u001b[31m50.9 MB/s\u001b[0m eta \u001b[36m0:00:00\u001b[0m00:01\u001b[0m00:01\u001b[0m\n",
      "\u001b[?25hRequirement already satisfied: numpy>=1.17.3 in /home/ec2-user/anaconda3/envs/python3/lib/python3.10/site-packages (from scikit-learn==1.3.0) (1.22.3)\n",
      "Requirement already satisfied: scipy>=1.5.0 in /home/ec2-user/anaconda3/envs/python3/lib/python3.10/site-packages (from scikit-learn==1.3.0) (1.10.1)\n",
      "Requirement already satisfied: joblib>=1.1.1 in /home/ec2-user/anaconda3/envs/python3/lib/python3.10/site-packages (from scikit-learn==1.3.0) (1.2.0)\n",
      "Requirement already satisfied: threadpoolctl>=2.0.0 in /home/ec2-user/anaconda3/envs/python3/lib/python3.10/site-packages (from scikit-learn==1.3.0) (3.1.0)\n",
      "Installing collected packages: scikit-learn\n",
      "  Attempting uninstall: scikit-learn\n",
      "    Found existing installation: scikit-learn 1.2.2\n",
      "    Uninstalling scikit-learn-1.2.2:\n",
      "      Successfully uninstalled scikit-learn-1.2.2\n",
      "Successfully installed scikit-learn-1.3.0\n"
     ]
    }
   ],
   "source": [
    "!pip install scikit-learn==1.3.0"
   ]
  },
  {
   "cell_type": "code",
   "execution_count": 2,
   "id": "97f6550e",
   "metadata": {},
   "outputs": [
    {
     "name": "stdout",
     "output_type": "stream",
     "text": [
      "Looking in indexes: https://pypi.org/simple, https://pip.repos.neuron.amazonaws.com\n",
      "Collecting imbalanced-learn\n",
      "  Downloading imbalanced_learn-0.11.0-py3-none-any.whl (235 kB)\n",
      "\u001b[2K     \u001b[90m━━━━━━━━━━━━━━━━━━━━━━━━━━━━━━━━━━━━━━\u001b[0m \u001b[32m235.6/235.6 kB\u001b[0m \u001b[31m14.4 MB/s\u001b[0m eta \u001b[36m0:00:00\u001b[0m\n",
      "\u001b[?25hRequirement already satisfied: numpy>=1.17.3 in /home/ec2-user/anaconda3/envs/python3/lib/python3.10/site-packages (from imbalanced-learn) (1.22.3)\n",
      "Requirement already satisfied: scipy>=1.5.0 in /home/ec2-user/anaconda3/envs/python3/lib/python3.10/site-packages (from imbalanced-learn) (1.10.1)\n",
      "Requirement already satisfied: scikit-learn>=1.0.2 in /home/ec2-user/anaconda3/envs/python3/lib/python3.10/site-packages (from imbalanced-learn) (1.3.0)\n",
      "Requirement already satisfied: joblib>=1.1.1 in /home/ec2-user/anaconda3/envs/python3/lib/python3.10/site-packages (from imbalanced-learn) (1.2.0)\n",
      "Requirement already satisfied: threadpoolctl>=2.0.0 in /home/ec2-user/anaconda3/envs/python3/lib/python3.10/site-packages (from imbalanced-learn) (3.1.0)\n",
      "Installing collected packages: imbalanced-learn\n",
      "Successfully installed imbalanced-learn-0.11.0\n"
     ]
    }
   ],
   "source": [
    "!pip install imbalanced-learn"
   ]
  },
  {
   "cell_type": "code",
   "execution_count": 112,
   "id": "402eaddf",
   "metadata": {},
   "outputs": [
    {
     "name": "stdout",
     "output_type": "stream",
     "text": [
      "1.3.0\n"
     ]
    }
   ],
   "source": [
    "import sklearn \n",
    "print(sklearn.__version__)"
   ]
  },
  {
   "cell_type": "code",
   "execution_count": 113,
   "id": "d673596e",
   "metadata": {},
   "outputs": [],
   "source": [
    "# Imports \n",
    "import sagemaker\n",
    "import boto3\n",
    "from sagemaker.session import s3_input, Session\n",
    "import pandas as pd\n",
    "from sklearn.preprocessing import QuantileTransformer\n",
    "from sklearn.neighbors import KNeighborsRegressor\n",
    "from sklearn.pipeline import Pipeline\n",
    "from sklearn.model_selection import GridSearchCV\n",
    "from sklearn.metrics import accuracy_score\n",
    "from sklearn.model_selection import train_test_split\n",
    "import matplotlib.pylab as plt\n",
    "from sagemaker import get_execution_role\n",
    "from tqdm import tqdm\n",
    "import time"
   ]
  },
  {
   "cell_type": "code",
   "execution_count": 114,
   "id": "c99b50b9",
   "metadata": {},
   "outputs": [
    {
     "name": "stdout",
     "output_type": "stream",
     "text": [
      "us-east-2\n",
      "arn:aws:iam::819765242609:role/service-role/AmazonSageMakerServiceCatalogProductsUseRole\n"
     ]
    }
   ],
   "source": [
    "# Get S3 Bucket Details\n",
    "bucket_name = \"f1-ml-project-data\"\n",
    "my_region = boto3.session.Session().region_name\n",
    "role = get_execution_role()\n",
    "print(my_region)\n",
    "print(role)"
   ]
  },
  {
   "cell_type": "code",
   "execution_count": 115,
   "id": "b7220c56",
   "metadata": {},
   "outputs": [],
   "source": [
    "# Setup Client\n",
    "client = boto3.client('s3')"
   ]
  },
  {
   "cell_type": "code",
   "execution_count": 116,
   "id": "00c32e3a",
   "metadata": {},
   "outputs": [
    {
     "name": "stdout",
     "output_type": "stream",
     "text": [
      "      raceId  driverId  constructorId  grid_start_pos  laps  fastest_lap   \n",
      "0        900         3            131               3    57         19.0  \\\n",
      "1        900       825              1               4    57         49.0   \n",
      "2        900        18              1              10    57         39.0   \n",
      "3        900         4              6               5    57         57.0   \n",
      "4        900       822              3              15    57         56.0   \n",
      "...      ...       ...            ...             ...   ...          ...   \n",
      "3262    1073       849              3              16    50         30.0   \n",
      "3263    1073       841             51              14    33         33.0   \n",
      "3264    1073       847              3              17    26         23.0   \n",
      "3265    1073         8             51              18    25         23.0   \n",
      "3266    1073       853            210              20     0          NaN   \n",
      "\n",
      "      fast_lap_rank  fastest_lap_time  fastest_lap_speed  statusId  year   \n",
      "0                 1           92478.0            206.436         1  2014  \\\n",
      "1                 6           93066.0            205.131         1  2014   \n",
      "2                 5           92917.0            205.460         1  2014   \n",
      "3                 7           93186.0            204.867         1  2014   \n",
      "4                 3           92616.0            206.128         1  2014   \n",
      "...             ...               ...                ...       ...   ...   \n",
      "3262             15           89293.0            212.912         3  2021   \n",
      "3263             16           89442.0            212.557         6  2021   \n",
      "3264             19           90647.0            209.732         6  2021   \n",
      "3265             18           89698.0            211.951        23  2021   \n",
      "3266              0               NaN                NaN       139  2021   \n",
      "\n",
      "      round  circuitId  num_pit_stops  avg_lap_time  finish_domain_encoded  \n",
      "0         1          1            2.0     97872.105                    0.0  \n",
      "1         1          1            2.0     98341.877                    0.0  \n",
      "2         1          1            2.0     98398.895                    0.0  \n",
      "3         1          1            2.0     98491.123                    1.0  \n",
      "4         1          1            2.0     98707.877                    1.0  \n",
      "...     ...        ...            ...           ...                    ...  \n",
      "3262     22         24            1.0     92309.820                    2.0  \n",
      "3263     22         24            1.0     91524.182                    2.0  \n",
      "3264     22         24            NaN     95032.885                    2.0  \n",
      "3265     22         24            1.0     94544.440                    2.0  \n",
      "3266     22         24            NaN           NaN                    2.0  \n",
      "\n",
      "[3267 rows x 16 columns]\n"
     ]
    }
   ],
   "source": [
    "# Get Training and Test Data\n",
    "data = pd.read_csv(\"s3://f1-ml-project-data/input_data/train_test_f1_data\").drop(columns=['Unnamed: 0',\n",
    "                                                                           'driver_pos', 'driver_points',\n",
    "                                                                           'milliseconds', 'constructor_position',\n",
    "                                                                           'constructor_points'])\n",
    "print(data)"
   ]
  },
  {
   "cell_type": "code",
   "execution_count": 117,
   "id": "b9ab905e",
   "metadata": {},
   "outputs": [
    {
     "name": "stdout",
     "output_type": "stream",
     "text": [
      "      raceId  driverId  constructorId  grid_start_pos  laps  fastest_lap   \n",
      "0        900         3            131               3    57         19.0  \\\n",
      "1        900       825              1               4    57         49.0   \n",
      "2        900        18              1              10    57         39.0   \n",
      "3        900         4              6               5    57         57.0   \n",
      "4        900       822              3              15    57         56.0   \n",
      "...      ...       ...            ...             ...   ...          ...   \n",
      "3262    1073       849              3              16    50         30.0   \n",
      "3263    1073       841             51              14    33         33.0   \n",
      "3264    1073       847              3              17    26         23.0   \n",
      "3265    1073         8             51              18    25         23.0   \n",
      "3266    1073       853            210              20     0          NaN   \n",
      "\n",
      "      fast_lap_rank  fastest_lap_time  fastest_lap_speed  statusId  year   \n",
      "0                 1           92478.0            206.436         1  2014  \\\n",
      "1                 6           93066.0            205.131         1  2014   \n",
      "2                 5           92917.0            205.460         1  2014   \n",
      "3                 7           93186.0            204.867         1  2014   \n",
      "4                 3           92616.0            206.128         1  2014   \n",
      "...             ...               ...                ...       ...   ...   \n",
      "3262             15           89293.0            212.912         3  2021   \n",
      "3263             16           89442.0            212.557         6  2021   \n",
      "3264             19           90647.0            209.732         6  2021   \n",
      "3265             18           89698.0            211.951        23  2021   \n",
      "3266              0               NaN                NaN       139  2021   \n",
      "\n",
      "      round  circuitId  num_pit_stops  avg_lap_time  \n",
      "0         1          1            2.0     97872.105  \n",
      "1         1          1            2.0     98341.877  \n",
      "2         1          1            2.0     98398.895  \n",
      "3         1          1            2.0     98491.123  \n",
      "4         1          1            2.0     98707.877  \n",
      "...     ...        ...            ...           ...  \n",
      "3262     22         24            1.0     92309.820  \n",
      "3263     22         24            1.0     91524.182  \n",
      "3264     22         24            NaN     95032.885  \n",
      "3265     22         24            1.0     94544.440  \n",
      "3266     22         24            NaN           NaN  \n",
      "\n",
      "[3267 rows x 15 columns]\n",
      "0       0.0\n",
      "1       0.0\n",
      "2       0.0\n",
      "3       1.0\n",
      "4       1.0\n",
      "       ... \n",
      "3262    2.0\n",
      "3263    2.0\n",
      "3264    2.0\n",
      "3265    2.0\n",
      "3266    2.0\n",
      "Name: finish_domain_encoded, Length: 3267, dtype: float64\n"
     ]
    }
   ],
   "source": [
    "# Split into feature and target sets\n",
    "X = data.drop(columns=['finish_domain_encoded'])\n",
    "y = data['finish_domain_encoded']\n",
    "\n",
    "print(X)\n",
    "print(y)"
   ]
  },
  {
   "cell_type": "code",
   "execution_count": 118,
   "id": "f2a05ab0",
   "metadata": {},
   "outputs": [],
   "source": [
    "# Split Data into Testing and Training\n",
    "from sklearn.model_selection import train_test_split\n",
    "\n",
    "# Split the data into training and testing sets while maintaining class proportions\n",
    "X_train, X_test, y_train, y_test = train_test_split(X, y, test_size=0.2, train_size=0.8, stratify=y, random_state=42)"
   ]
  },
  {
   "cell_type": "code",
   "execution_count": 119,
   "id": "e1c5733d",
   "metadata": {},
   "outputs": [
    {
     "name": "stdout",
     "output_type": "stream",
     "text": [
      "raceId                 0\n",
      "driverId               0\n",
      "constructorId          0\n",
      "grid_start_pos         0\n",
      "laps                   0\n",
      "fastest_lap          116\n",
      "fast_lap_rank          0\n",
      "fastest_lap_time     116\n",
      "fastest_lap_speed    116\n",
      "statusId               0\n",
      "year                   0\n",
      "round                  0\n",
      "circuitId              0\n",
      "num_pit_stops        199\n",
      "avg_lap_time          79\n",
      "dtype: int64\n",
      "raceId               0\n",
      "driverId             0\n",
      "constructorId        0\n",
      "grid_start_pos       0\n",
      "laps                 0\n",
      "fastest_lap          0\n",
      "fast_lap_rank        0\n",
      "fastest_lap_time     0\n",
      "fastest_lap_speed    0\n",
      "statusId             0\n",
      "year                 0\n",
      "round                0\n",
      "circuitId            0\n",
      "num_pit_stops        0\n",
      "avg_lap_time         0\n",
      "dtype: int64\n"
     ]
    }
   ],
   "source": [
    "# Impute Missing Values for X_train\n",
    "from sklearn.impute import KNNImputer\n",
    "\n",
    "print(X_train.isna().sum())\n",
    "\n",
    "train_imputer = KNNImputer(n_neighbors=5)\n",
    "X_train_imputed = train_imputer.fit_transform(X_train)\n",
    "X_train = pd.DataFrame(X_train_imputed, columns=X_train.columns)\n",
    "\n",
    "print(X_train.isna().sum())"
   ]
  },
  {
   "cell_type": "code",
   "execution_count": 120,
   "id": "de43657b",
   "metadata": {},
   "outputs": [
    {
     "name": "stdout",
     "output_type": "stream",
     "text": [
      "      raceId  driverId  constructorId  grid_start_pos  laps  fastest_lap   \n",
      "0      956.0       3.0          131.0             6.0  71.0         66.0  \\\n",
      "1     1061.0     849.0            3.0            17.0  51.0         51.0   \n",
      "2      991.0       8.0            6.0             2.0  56.0         48.0   \n",
      "3      905.0      18.0            1.0            12.0  77.0         42.0   \n",
      "4      926.0     832.0            5.0             7.0  57.0         49.0   \n",
      "...      ...       ...            ...             ...   ...          ...   \n",
      "2608  1001.0       1.0          131.0             1.0  44.0         23.0   \n",
      "2609   995.0       1.0          131.0             4.0  68.0         66.0   \n",
      "2610   900.0     820.0          206.0            17.0  55.0         33.0   \n",
      "2611  1009.0       8.0            6.0             4.0   6.0          5.0   \n",
      "2612  1070.0     852.0          213.0            17.0   0.0         12.0   \n",
      "\n",
      "      fast_lap_rank  fastest_lap_time  fastest_lap_speed  statusId    year   \n",
      "0               2.0           68491.0           227.3810       1.0  2016.0  \\\n",
      "1              16.0           92477.0           229.3280      11.0  2021.0   \n",
      "2               3.0           96456.0           203.4460       1.0  2018.0   \n",
      "3              12.0           81047.0           148.3580      11.0  2014.0   \n",
      "4              11.0           92872.0           205.5600      11.0  2015.0   \n",
      "...             ...               ...                ...       ...     ...   \n",
      "2608            3.0          106721.0           236.2640       1.0  2018.0   \n",
      "2609            6.0           74183.0           211.6330       1.0  2018.0   \n",
      "2610           12.0           94202.0           202.6580      12.0  2014.0   \n",
      "2611           18.0          105198.0           190.0640      75.0  2018.0   \n",
      "2612            0.0           91034.8           204.4914       4.0  2021.0   \n",
      "\n",
      "      round  circuitId  num_pit_stops  avg_lap_time  \n",
      "0       9.0       70.0            4.0    74293.1970  \n",
      "1      10.0        9.0            2.0   139404.2750  \n",
      "2       3.0       17.0            1.0   102607.4460  \n",
      "3       6.0        6.0            1.0    85568.4680  \n",
      "4       1.0        1.0            1.0    97941.9470  \n",
      "...     ...        ...            ...           ...  \n",
      "2608   13.0       13.0            2.0   114216.7500  \n",
      "2609    7.0        7.0            1.0    78425.5290  \n",
      "2610    1.0        1.0            2.0   101837.6180  \n",
      "2611   21.0       24.0            2.6   141122.8330  \n",
      "2612   18.0       32.0            1.2   256433.0334  \n",
      "\n",
      "[2613 rows x 15 columns]\n",
      "[1. 2. 0. ... 2. 2. 2.]\n"
     ]
    }
   ],
   "source": [
    "# Prepare Values\n",
    "print(X_train)\n",
    "y_train = y_train.values.ravel()\n",
    "print(y_train)"
   ]
  },
  {
   "cell_type": "code",
   "execution_count": 121,
   "id": "a2568204",
   "metadata": {},
   "outputs": [
    {
     "name": "stdout",
     "output_type": "stream",
     "text": [
      "[1 2 0 ... 2 2 2]\n"
     ]
    }
   ],
   "source": [
    "# Make y_train into numpy array of int instead of float\n",
    "y_train = y_train.astype(int)\n",
    "print(y_train)"
   ]
  },
  {
   "cell_type": "code",
   "execution_count": 122,
   "id": "c7c9a3fc",
   "metadata": {},
   "outputs": [
    {
     "name": "stdout",
     "output_type": "stream",
     "text": [
      "Class 0: 384 instances\n",
      "Class 1: 896 instances\n",
      "Class 2: 1333 instances\n"
     ]
    }
   ],
   "source": [
    "# Inspect Unique Target Classes\n",
    "import numpy as np\n",
    "\n",
    "unique_classes, class_counts = np.unique(y_train, return_counts=True)\n",
    "\n",
    "for cls, count in zip(unique_classes, class_counts):\n",
    "    print(f\"Class {cls}: {count} instances\")"
   ]
  },
  {
   "cell_type": "code",
   "execution_count": 123,
   "id": "1aa53894",
   "metadata": {},
   "outputs": [],
   "source": [
    "import numpy as np\n",
    "from imblearn.over_sampling import SVMSMOTE\n",
    "\n",
    "svm_smote = SVMSMOTE(random_state=42)\n",
    "X_train_resampled, y_train_resampled = svm_smote.fit_resample(X_train, y_train)"
   ]
  },
  {
   "cell_type": "code",
   "execution_count": 124,
   "id": "38e53c3d",
   "metadata": {},
   "outputs": [
    {
     "name": "stdout",
     "output_type": "stream",
     "text": [
      "Class distribution before SVM SMOTE: Counter({2: 1333, 1: 896, 0: 384})\n",
      "Class distribution after SVM SMOTE: Counter({1: 1333, 2: 1333, 0: 1333})\n"
     ]
    }
   ],
   "source": [
    "from collections import Counter\n",
    "\n",
    "print(\"Class distribution before SVM SMOTE:\", Counter(y_train))\n",
    "print(\"Class distribution after SVM SMOTE:\", Counter(y_train_resampled))"
   ]
  },
  {
   "cell_type": "code",
   "execution_count": 125,
   "id": "694a7ae9",
   "metadata": {},
   "outputs": [
    {
     "name": "stdout",
     "output_type": "stream",
     "text": [
      "CPU times: user 1.67 s, sys: 155 ms, total: 1.83 s\n",
      "Wall time: 1min 5s\n"
     ]
    },
    {
     "data": {
      "text/html": [
       "<style>#sk-container-id-8 {color: black;}#sk-container-id-8 pre{padding: 0;}#sk-container-id-8 div.sk-toggleable {background-color: white;}#sk-container-id-8 label.sk-toggleable__label {cursor: pointer;display: block;width: 100%;margin-bottom: 0;padding: 0.3em;box-sizing: border-box;text-align: center;}#sk-container-id-8 label.sk-toggleable__label-arrow:before {content: \"▸\";float: left;margin-right: 0.25em;color: #696969;}#sk-container-id-8 label.sk-toggleable__label-arrow:hover:before {color: black;}#sk-container-id-8 div.sk-estimator:hover label.sk-toggleable__label-arrow:before {color: black;}#sk-container-id-8 div.sk-toggleable__content {max-height: 0;max-width: 0;overflow: hidden;text-align: left;background-color: #f0f8ff;}#sk-container-id-8 div.sk-toggleable__content pre {margin: 0.2em;color: black;border-radius: 0.25em;background-color: #f0f8ff;}#sk-container-id-8 input.sk-toggleable__control:checked~div.sk-toggleable__content {max-height: 200px;max-width: 100%;overflow: auto;}#sk-container-id-8 input.sk-toggleable__control:checked~label.sk-toggleable__label-arrow:before {content: \"▾\";}#sk-container-id-8 div.sk-estimator input.sk-toggleable__control:checked~label.sk-toggleable__label {background-color: #d4ebff;}#sk-container-id-8 div.sk-label input.sk-toggleable__control:checked~label.sk-toggleable__label {background-color: #d4ebff;}#sk-container-id-8 input.sk-hidden--visually {border: 0;clip: rect(1px 1px 1px 1px);clip: rect(1px, 1px, 1px, 1px);height: 1px;margin: -1px;overflow: hidden;padding: 0;position: absolute;width: 1px;}#sk-container-id-8 div.sk-estimator {font-family: monospace;background-color: #f0f8ff;border: 1px dotted black;border-radius: 0.25em;box-sizing: border-box;margin-bottom: 0.5em;}#sk-container-id-8 div.sk-estimator:hover {background-color: #d4ebff;}#sk-container-id-8 div.sk-parallel-item::after {content: \"\";width: 100%;border-bottom: 1px solid gray;flex-grow: 1;}#sk-container-id-8 div.sk-label:hover label.sk-toggleable__label {background-color: #d4ebff;}#sk-container-id-8 div.sk-serial::before {content: \"\";position: absolute;border-left: 1px solid gray;box-sizing: border-box;top: 0;bottom: 0;left: 50%;z-index: 0;}#sk-container-id-8 div.sk-serial {display: flex;flex-direction: column;align-items: center;background-color: white;padding-right: 0.2em;padding-left: 0.2em;position: relative;}#sk-container-id-8 div.sk-item {position: relative;z-index: 1;}#sk-container-id-8 div.sk-parallel {display: flex;align-items: stretch;justify-content: center;background-color: white;position: relative;}#sk-container-id-8 div.sk-item::before, #sk-container-id-8 div.sk-parallel-item::before {content: \"\";position: absolute;border-left: 1px solid gray;box-sizing: border-box;top: 0;bottom: 0;left: 50%;z-index: -1;}#sk-container-id-8 div.sk-parallel-item {display: flex;flex-direction: column;z-index: 1;position: relative;background-color: white;}#sk-container-id-8 div.sk-parallel-item:first-child::after {align-self: flex-end;width: 50%;}#sk-container-id-8 div.sk-parallel-item:last-child::after {align-self: flex-start;width: 50%;}#sk-container-id-8 div.sk-parallel-item:only-child::after {width: 0;}#sk-container-id-8 div.sk-dashed-wrapped {border: 1px dashed gray;margin: 0 0.4em 0.5em 0.4em;box-sizing: border-box;padding-bottom: 0.4em;background-color: white;}#sk-container-id-8 div.sk-label label {font-family: monospace;font-weight: bold;display: inline-block;line-height: 1.2em;}#sk-container-id-8 div.sk-label-container {text-align: center;}#sk-container-id-8 div.sk-container {/* jupyter's `normalize.less` sets `[hidden] { display: none; }` but bootstrap.min.css set `[hidden] { display: none !important; }` so we also need the `!important` here to be able to override the default hidden behavior on the sphinx rendered scikit-learn.org. See: https://github.com/scikit-learn/scikit-learn/issues/21755 */display: inline-block !important;position: relative;}#sk-container-id-8 div.sk-text-repr-fallback {display: none;}</style><div id=\"sk-container-id-8\" class=\"sk-top-container\"><div class=\"sk-text-repr-fallback\"><pre>GridSearchCV(cv=2, estimator=RandomForestClassifier(random_state=42), n_jobs=-1,\n",
       "             param_grid={&#x27;bootstrap&#x27;: [True, False],\n",
       "                         &#x27;max_depth&#x27;: [None, 10, 20],\n",
       "                         &#x27;min_samples_leaf&#x27;: [1, 2, 4],\n",
       "                         &#x27;min_samples_split&#x27;: [2, 5, 10],\n",
       "                         &#x27;n_estimators&#x27;: [100, 200, 300]},\n",
       "             scoring=&#x27;f1_weighted&#x27;)</pre><b>In a Jupyter environment, please rerun this cell to show the HTML representation or trust the notebook. <br />On GitHub, the HTML representation is unable to render, please try loading this page with nbviewer.org.</b></div><div class=\"sk-container\" hidden><div class=\"sk-item sk-dashed-wrapped\"><div class=\"sk-label-container\"><div class=\"sk-label sk-toggleable\"><input class=\"sk-toggleable__control sk-hidden--visually\" id=\"sk-estimator-id-14\" type=\"checkbox\" ><label for=\"sk-estimator-id-14\" class=\"sk-toggleable__label sk-toggleable__label-arrow\">GridSearchCV</label><div class=\"sk-toggleable__content\"><pre>GridSearchCV(cv=2, estimator=RandomForestClassifier(random_state=42), n_jobs=-1,\n",
       "             param_grid={&#x27;bootstrap&#x27;: [True, False],\n",
       "                         &#x27;max_depth&#x27;: [None, 10, 20],\n",
       "                         &#x27;min_samples_leaf&#x27;: [1, 2, 4],\n",
       "                         &#x27;min_samples_split&#x27;: [2, 5, 10],\n",
       "                         &#x27;n_estimators&#x27;: [100, 200, 300]},\n",
       "             scoring=&#x27;f1_weighted&#x27;)</pre></div></div></div><div class=\"sk-parallel\"><div class=\"sk-parallel-item\"><div class=\"sk-item\"><div class=\"sk-label-container\"><div class=\"sk-label sk-toggleable\"><input class=\"sk-toggleable__control sk-hidden--visually\" id=\"sk-estimator-id-15\" type=\"checkbox\" ><label for=\"sk-estimator-id-15\" class=\"sk-toggleable__label sk-toggleable__label-arrow\">estimator: RandomForestClassifier</label><div class=\"sk-toggleable__content\"><pre>RandomForestClassifier(random_state=42)</pre></div></div></div><div class=\"sk-serial\"><div class=\"sk-item\"><div class=\"sk-estimator sk-toggleable\"><input class=\"sk-toggleable__control sk-hidden--visually\" id=\"sk-estimator-id-16\" type=\"checkbox\" ><label for=\"sk-estimator-id-16\" class=\"sk-toggleable__label sk-toggleable__label-arrow\">RandomForestClassifier</label><div class=\"sk-toggleable__content\"><pre>RandomForestClassifier(random_state=42)</pre></div></div></div></div></div></div></div></div></div></div>"
      ],
      "text/plain": [
       "GridSearchCV(cv=2, estimator=RandomForestClassifier(random_state=42), n_jobs=-1,\n",
       "             param_grid={'bootstrap': [True, False],\n",
       "                         'max_depth': [None, 10, 20],\n",
       "                         'min_samples_leaf': [1, 2, 4],\n",
       "                         'min_samples_split': [2, 5, 10],\n",
       "                         'n_estimators': [100, 200, 300]},\n",
       "             scoring='f1_weighted')"
      ]
     },
     "execution_count": 125,
     "metadata": {},
     "output_type": "execute_result"
    }
   ],
   "source": [
    "%%time\n",
    "from sklearn.ensemble import RandomForestClassifier\n",
    "from sklearn.model_selection import GridSearchCV\n",
    "\n",
    "param_grid = {\n",
    "    'n_estimators': [100, 200, 300],\n",
    "    'max_depth': [None, 10, 20],\n",
    "    'min_samples_split': [2, 5, 10],\n",
    "    'min_samples_leaf': [1, 2, 4],\n",
    "    'bootstrap': [True, False]\n",
    "}\n",
    "\n",
    "scoring = 'f1_weighted'\n",
    "\n",
    "rf_classifier = RandomForestClassifier(random_state=42)\n",
    "\n",
    "grid_search = GridSearchCV(estimator=rf_classifier, param_grid=param_grid, scoring=scoring, cv=2, n_jobs=-1)\n",
    "\n",
    "grid_search.fit(X_train_resampled, y_train_resampled)"
   ]
  },
  {
   "cell_type": "code",
   "execution_count": 126,
   "id": "5f8a8279",
   "metadata": {},
   "outputs": [
    {
     "name": "stdout",
     "output_type": "stream",
     "text": [
      "Best Parameters: {'bootstrap': True, 'max_depth': None, 'min_samples_leaf': 1, 'min_samples_split': 2, 'n_estimators': 100}\n",
      "Best Weighted F1 Score: 0.8353425363661546\n",
      "     mean_fit_time  std_fit_time  mean_score_time  std_score_time   \n",
      "0         0.700289      0.033327         0.058370        0.001745  \\\n",
      "1         1.414283      0.056795         0.107037        0.002345   \n",
      "2         2.094890      0.118447         0.161360        0.002504   \n",
      "3         0.688021      0.025644         0.057513        0.002285   \n",
      "4         1.354901      0.070317         0.111080        0.003317   \n",
      "..             ...           ...              ...             ...   \n",
      "157       1.567278      0.112171         0.103423        0.001158   \n",
      "158       2.339948      0.174171         0.130702        0.018503   \n",
      "159       0.774612      0.061944         0.055030        0.000640   \n",
      "160       1.315440      0.033269         0.073721        0.000937   \n",
      "161       1.848110      0.281205         0.101622        0.004212   \n",
      "\n",
      "    param_bootstrap param_max_depth param_min_samples_leaf   \n",
      "0              True            None                      1  \\\n",
      "1              True            None                      1   \n",
      "2              True            None                      1   \n",
      "3              True            None                      1   \n",
      "4              True            None                      1   \n",
      "..              ...             ...                    ...   \n",
      "157           False              20                      4   \n",
      "158           False              20                      4   \n",
      "159           False              20                      4   \n",
      "160           False              20                      4   \n",
      "161           False              20                      4   \n",
      "\n",
      "    param_min_samples_split param_n_estimators   \n",
      "0                         2                100  \\\n",
      "1                         2                200   \n",
      "2                         2                300   \n",
      "3                         5                100   \n",
      "4                         5                200   \n",
      "..                      ...                ...   \n",
      "157                       5                200   \n",
      "158                       5                300   \n",
      "159                      10                100   \n",
      "160                      10                200   \n",
      "161                      10                300   \n",
      "\n",
      "                                                params  split0_test_score   \n",
      "0    {'bootstrap': True, 'max_depth': None, 'min_sa...           0.816279  \\\n",
      "1    {'bootstrap': True, 'max_depth': None, 'min_sa...           0.811380   \n",
      "2    {'bootstrap': True, 'max_depth': None, 'min_sa...           0.813513   \n",
      "3    {'bootstrap': True, 'max_depth': None, 'min_sa...           0.812830   \n",
      "4    {'bootstrap': True, 'max_depth': None, 'min_sa...           0.813525   \n",
      "..                                                 ...                ...   \n",
      "157  {'bootstrap': False, 'max_depth': 20, 'min_sam...           0.804978   \n",
      "158  {'bootstrap': False, 'max_depth': 20, 'min_sam...           0.803952   \n",
      "159  {'bootstrap': False, 'max_depth': 20, 'min_sam...           0.803017   \n",
      "160  {'bootstrap': False, 'max_depth': 20, 'min_sam...           0.801528   \n",
      "161  {'bootstrap': False, 'max_depth': 20, 'min_sam...           0.799944   \n",
      "\n",
      "     split1_test_score  mean_test_score  std_test_score  rank_test_score  \n",
      "0             0.854406         0.835343        0.019064                1  \n",
      "1             0.850515         0.830947        0.019568               32  \n",
      "2             0.854513         0.834013        0.020500                6  \n",
      "3             0.853935         0.833383        0.020553               13  \n",
      "4             0.851342         0.832433        0.018909               18  \n",
      "..                 ...              ...             ...              ...  \n",
      "157           0.848206         0.826592        0.021614               52  \n",
      "158           0.846580         0.825266        0.021314               65  \n",
      "159           0.836364         0.819690        0.016673              136  \n",
      "160           0.844656         0.823092        0.021564               91  \n",
      "161           0.845505         0.822724        0.022780              105  \n",
      "\n",
      "[162 rows x 15 columns]\n"
     ]
    }
   ],
   "source": [
    "print(\"Best Parameters:\", grid_search.best_params_)\n",
    "print(\"Best Weighted F1 Score:\", grid_search.best_score_)\n",
    "print(pd.DataFrame(grid_search.cv_results_))"
   ]
  },
  {
   "cell_type": "code",
   "execution_count": 127,
   "id": "27ee9919",
   "metadata": {},
   "outputs": [],
   "source": [
    "# Get Best Model \n",
    "\n",
    "best_model = grid_search.best_estimator_"
   ]
  },
  {
   "cell_type": "code",
   "execution_count": 128,
   "id": "deb616ff",
   "metadata": {},
   "outputs": [
    {
     "data": {
      "text/html": [
       "<style>#sk-container-id-9 {color: black;}#sk-container-id-9 pre{padding: 0;}#sk-container-id-9 div.sk-toggleable {background-color: white;}#sk-container-id-9 label.sk-toggleable__label {cursor: pointer;display: block;width: 100%;margin-bottom: 0;padding: 0.3em;box-sizing: border-box;text-align: center;}#sk-container-id-9 label.sk-toggleable__label-arrow:before {content: \"▸\";float: left;margin-right: 0.25em;color: #696969;}#sk-container-id-9 label.sk-toggleable__label-arrow:hover:before {color: black;}#sk-container-id-9 div.sk-estimator:hover label.sk-toggleable__label-arrow:before {color: black;}#sk-container-id-9 div.sk-toggleable__content {max-height: 0;max-width: 0;overflow: hidden;text-align: left;background-color: #f0f8ff;}#sk-container-id-9 div.sk-toggleable__content pre {margin: 0.2em;color: black;border-radius: 0.25em;background-color: #f0f8ff;}#sk-container-id-9 input.sk-toggleable__control:checked~div.sk-toggleable__content {max-height: 200px;max-width: 100%;overflow: auto;}#sk-container-id-9 input.sk-toggleable__control:checked~label.sk-toggleable__label-arrow:before {content: \"▾\";}#sk-container-id-9 div.sk-estimator input.sk-toggleable__control:checked~label.sk-toggleable__label {background-color: #d4ebff;}#sk-container-id-9 div.sk-label input.sk-toggleable__control:checked~label.sk-toggleable__label {background-color: #d4ebff;}#sk-container-id-9 input.sk-hidden--visually {border: 0;clip: rect(1px 1px 1px 1px);clip: rect(1px, 1px, 1px, 1px);height: 1px;margin: -1px;overflow: hidden;padding: 0;position: absolute;width: 1px;}#sk-container-id-9 div.sk-estimator {font-family: monospace;background-color: #f0f8ff;border: 1px dotted black;border-radius: 0.25em;box-sizing: border-box;margin-bottom: 0.5em;}#sk-container-id-9 div.sk-estimator:hover {background-color: #d4ebff;}#sk-container-id-9 div.sk-parallel-item::after {content: \"\";width: 100%;border-bottom: 1px solid gray;flex-grow: 1;}#sk-container-id-9 div.sk-label:hover label.sk-toggleable__label {background-color: #d4ebff;}#sk-container-id-9 div.sk-serial::before {content: \"\";position: absolute;border-left: 1px solid gray;box-sizing: border-box;top: 0;bottom: 0;left: 50%;z-index: 0;}#sk-container-id-9 div.sk-serial {display: flex;flex-direction: column;align-items: center;background-color: white;padding-right: 0.2em;padding-left: 0.2em;position: relative;}#sk-container-id-9 div.sk-item {position: relative;z-index: 1;}#sk-container-id-9 div.sk-parallel {display: flex;align-items: stretch;justify-content: center;background-color: white;position: relative;}#sk-container-id-9 div.sk-item::before, #sk-container-id-9 div.sk-parallel-item::before {content: \"\";position: absolute;border-left: 1px solid gray;box-sizing: border-box;top: 0;bottom: 0;left: 50%;z-index: -1;}#sk-container-id-9 div.sk-parallel-item {display: flex;flex-direction: column;z-index: 1;position: relative;background-color: white;}#sk-container-id-9 div.sk-parallel-item:first-child::after {align-self: flex-end;width: 50%;}#sk-container-id-9 div.sk-parallel-item:last-child::after {align-self: flex-start;width: 50%;}#sk-container-id-9 div.sk-parallel-item:only-child::after {width: 0;}#sk-container-id-9 div.sk-dashed-wrapped {border: 1px dashed gray;margin: 0 0.4em 0.5em 0.4em;box-sizing: border-box;padding-bottom: 0.4em;background-color: white;}#sk-container-id-9 div.sk-label label {font-family: monospace;font-weight: bold;display: inline-block;line-height: 1.2em;}#sk-container-id-9 div.sk-label-container {text-align: center;}#sk-container-id-9 div.sk-container {/* jupyter's `normalize.less` sets `[hidden] { display: none; }` but bootstrap.min.css set `[hidden] { display: none !important; }` so we also need the `!important` here to be able to override the default hidden behavior on the sphinx rendered scikit-learn.org. See: https://github.com/scikit-learn/scikit-learn/issues/21755 */display: inline-block !important;position: relative;}#sk-container-id-9 div.sk-text-repr-fallback {display: none;}</style><div id=\"sk-container-id-9\" class=\"sk-top-container\"><div class=\"sk-text-repr-fallback\"><pre>RandomForestClassifier(random_state=42)</pre><b>In a Jupyter environment, please rerun this cell to show the HTML representation or trust the notebook. <br />On GitHub, the HTML representation is unable to render, please try loading this page with nbviewer.org.</b></div><div class=\"sk-container\" hidden><div class=\"sk-item\"><div class=\"sk-estimator sk-toggleable\"><input class=\"sk-toggleable__control sk-hidden--visually\" id=\"sk-estimator-id-17\" type=\"checkbox\" checked><label for=\"sk-estimator-id-17\" class=\"sk-toggleable__label sk-toggleable__label-arrow\">RandomForestClassifier</label><div class=\"sk-toggleable__content\"><pre>RandomForestClassifier(random_state=42)</pre></div></div></div></div></div>"
      ],
      "text/plain": [
       "RandomForestClassifier(random_state=42)"
      ]
     },
     "execution_count": 128,
     "metadata": {},
     "output_type": "execute_result"
    }
   ],
   "source": [
    "# Fit the best model \n",
    "\n",
    "best_model.fit(X_train_resampled, y_train_resampled)"
   ]
  },
  {
   "cell_type": "code",
   "execution_count": 129,
   "id": "5c30e4d4",
   "metadata": {},
   "outputs": [
    {
     "name": "stdout",
     "output_type": "stream",
     "text": [
      "raceId                0\n",
      "driverId              0\n",
      "constructorId         0\n",
      "grid_start_pos        0\n",
      "laps                  0\n",
      "fastest_lap          41\n",
      "fast_lap_rank         0\n",
      "fastest_lap_time     41\n",
      "fastest_lap_speed    41\n",
      "statusId              0\n",
      "year                  0\n",
      "round                 0\n",
      "circuitId             0\n",
      "num_pit_stops        54\n",
      "avg_lap_time         25\n",
      "dtype: int64\n",
      "raceId               0\n",
      "driverId             0\n",
      "constructorId        0\n",
      "grid_start_pos       0\n",
      "laps                 0\n",
      "fastest_lap          0\n",
      "fast_lap_rank        0\n",
      "fastest_lap_time     0\n",
      "fastest_lap_speed    0\n",
      "statusId             0\n",
      "year                 0\n",
      "round                0\n",
      "circuitId            0\n",
      "num_pit_stops        0\n",
      "avg_lap_time         0\n",
      "dtype: int64\n"
     ]
    }
   ],
   "source": [
    "# Prepare X_test for prediction and metrics\n",
    "\n",
    "print(X_test.isna().sum())\n",
    "\n",
    "test_imputer = KNNImputer(n_neighbors=5)\n",
    "X_test_imputed = test_imputer.fit_transform(X_test)\n",
    "X_test = pd.DataFrame(X_test_imputed, columns=X_test.columns)\n",
    "\n",
    "print(X_test.isna().sum())"
   ]
  },
  {
   "cell_type": "code",
   "execution_count": 130,
   "id": "98d5dcb9",
   "metadata": {},
   "outputs": [
    {
     "name": "stdout",
     "output_type": "stream",
     "text": [
      "     raceId  driverId  constructorId  grid_start_pos  laps  fastest_lap   \n",
      "0    1054.0     817.0            1.0            16.0  66.0         64.0  \\\n",
      "1     941.0       3.0          131.0             1.0   7.0          6.0   \n",
      "2     944.0     817.0            9.0            19.0  70.0         56.0   \n",
      "3     954.0     836.0          209.0            17.0  68.0         48.0   \n",
      "4     949.0     807.0           10.0             8.0  56.0         53.0   \n",
      "..      ...       ...            ...             ...   ...          ...   \n",
      "649  1073.0       8.0           51.0            18.0  25.0         23.0   \n",
      "650   949.0     822.0            3.0             6.0  56.0         37.0   \n",
      "651   908.0     826.0            5.0             9.0  52.0         45.0   \n",
      "652  1014.0     815.0          211.0            15.0  66.0         65.0   \n",
      "653  1033.0     832.0            1.0             9.0  69.0         68.0   \n",
      "\n",
      "     fast_lap_rank  fastest_lap_time  fastest_lap_speed  statusId    year   \n",
      "0             10.0           81987.0            204.310       1.0  2021.0  \\\n",
      "1             14.0          103133.0            204.132      37.0  2015.0   \n",
      "2             11.0           76313.0            203.273      11.0  2015.0   \n",
      "3             19.0           78282.0            200.551      12.0  2016.0   \n",
      "4              4.0           95188.0            204.681      11.0  2016.0   \n",
      "..             ...               ...                ...       ...     ...   \n",
      "649           18.0           89698.0            211.951      23.0  2021.0   \n",
      "650           15.0           97077.0            200.698      11.0  2016.0   \n",
      "651            6.0           98407.0            215.509       1.0  2014.0   \n",
      "652           16.0           81859.0            204.717       1.0  2019.0   \n",
      "653           15.0           80477.0            195.976      11.0  2020.0   \n",
      "\n",
      "     round  circuitId  num_pit_stops  avg_lap_time  \n",
      "0      3.0       75.0            3.0     87072.576  \n",
      "1     15.0       71.0            3.8    127623.286  \n",
      "2     18.0       18.0            3.0     78879.714  \n",
      "3      7.0        7.0            2.0     80820.235  \n",
      "4      2.0        3.0            4.0    101132.929  \n",
      "..     ...        ...            ...           ...  \n",
      "649   22.0       24.0            1.0     94544.440  \n",
      "650    2.0        3.0            3.0    100450.643  \n",
      "651    9.0        9.0            2.0    171181.423  \n",
      "652    5.0        4.0            2.0     87838.182  \n",
      "653    3.0       11.0            2.0     83977.797  \n",
      "\n",
      "[654 rows x 15 columns]\n",
      "[1. 2. 2. 2. 2. 1. 2. 1. 2. 1. 1. 1. 2. 2. 1. 2. 1. 1. 2. 2. 1. 1. 0. 2.\n",
      " 0. 0. 0. 1. 1. 1. 2. 2. 2. 1. 0. 2. 1. 1. 2. 2. 2. 1. 1. 1. 2. 1. 2. 1.\n",
      " 1. 1. 2. 1. 0. 2. 2. 2. 1. 0. 1. 1. 1. 0. 1. 2. 2. 0. 1. 2. 2. 1. 2. 2.\n",
      " 1. 2. 1. 2. 2. 1. 2. 1. 2. 0. 1. 2. 1. 2. 1. 2. 2. 2. 1. 2. 2. 0. 2. 0.\n",
      " 2. 2. 2. 2. 2. 0. 1. 1. 1. 2. 1. 2. 1. 1. 2. 2. 2. 2. 2. 2. 0. 1. 0. 1.\n",
      " 2. 2. 2. 2. 0. 2. 2. 2. 1. 1. 2. 1. 1. 1. 2. 2. 2. 2. 2. 0. 1. 1. 1. 0.\n",
      " 2. 2. 1. 2. 1. 0. 2. 1. 1. 0. 1. 1. 2. 2. 0. 0. 2. 0. 2. 1. 2. 2. 1. 2.\n",
      " 1. 2. 1. 1. 0. 1. 2. 0. 1. 1. 1. 0. 2. 1. 2. 2. 0. 1. 1. 1. 2. 1. 2. 2.\n",
      " 2. 2. 1. 1. 0. 1. 2. 1. 2. 2. 1. 2. 0. 1. 0. 2. 2. 2. 1. 1. 2. 2. 0. 2.\n",
      " 0. 2. 1. 0. 2. 2. 2. 2. 0. 1. 2. 0. 1. 1. 1. 2. 2. 2. 2. 1. 2. 1. 2. 2.\n",
      " 1. 2. 1. 2. 0. 1. 2. 1. 1. 0. 2. 2. 2. 1. 0. 2. 2. 0. 1. 2. 2. 2. 1. 2.\n",
      " 2. 1. 2. 1. 1. 1. 2. 0. 1. 2. 2. 1. 1. 2. 2. 1. 0. 2. 1. 1. 0. 0. 2. 1.\n",
      " 2. 1. 2. 1. 2. 2. 1. 2. 2. 0. 1. 0. 1. 2. 1. 0. 0. 1. 2. 2. 0. 1. 1. 1.\n",
      " 0. 1. 2. 1. 1. 1. 1. 2. 2. 2. 2. 1. 0. 2. 2. 2. 2. 1. 0. 0. 2. 0. 0. 0.\n",
      " 2. 2. 2. 2. 0. 2. 2. 0. 1. 2. 1. 2. 2. 1. 1. 2. 2. 2. 1. 2. 2. 2. 1. 2.\n",
      " 1. 2. 2. 1. 2. 2. 2. 2. 2. 1. 0. 0. 2. 2. 2. 1. 0. 2. 2. 2. 2. 2. 2. 2.\n",
      " 2. 2. 2. 2. 1. 1. 2. 0. 1. 2. 1. 1. 2. 2. 2. 2. 2. 0. 2. 1. 2. 1. 2. 0.\n",
      " 2. 2. 2. 1. 1. 2. 1. 2. 1. 0. 1. 2. 2. 2. 2. 0. 1. 2. 2. 0. 2. 2. 2. 1.\n",
      " 2. 2. 1. 2. 0. 1. 2. 2. 2. 1. 1. 2. 2. 2. 2. 0. 1. 1. 2. 1. 2. 0. 1. 1.\n",
      " 2. 1. 2. 0. 2. 1. 1. 2. 2. 2. 2. 2. 2. 1. 2. 1. 1. 2. 2. 0. 1. 1. 1. 2.\n",
      " 0. 2. 0. 1. 0. 1. 2. 2. 1. 2. 2. 2. 1. 2. 0. 2. 2. 2. 1. 2. 0. 2. 2. 2.\n",
      " 1. 1. 2. 2. 1. 2. 0. 2. 2. 2. 1. 0. 2. 2. 1. 1. 1. 2. 0. 2. 0. 2. 1. 2.\n",
      " 1. 1. 1. 2. 2. 2. 2. 1. 2. 2. 2. 2. 2. 0. 1. 2. 1. 2. 1. 0. 2. 1. 2. 2.\n",
      " 1. 0. 2. 2. 2. 0. 2. 1. 2. 0. 1. 2. 2. 1. 2. 1. 2. 0. 1. 2. 1. 2. 2. 0.\n",
      " 0. 2. 2. 2. 1. 1. 2. 2. 2. 0. 2. 1. 2. 2. 2. 1. 2. 1. 1. 1. 2. 1. 2. 0.\n",
      " 1. 2. 0. 2. 1. 2. 2. 2. 0. 2. 1. 1. 2. 2. 2. 2. 2. 1. 2. 2. 1. 1. 1. 1.\n",
      " 2. 1. 1. 1. 2. 2. 1. 2. 1. 2. 2. 1. 0. 2. 2. 2. 1. 0. 2. 0. 2. 2. 0. 2.\n",
      " 2. 2. 1. 1. 2. 1.]\n"
     ]
    }
   ],
   "source": [
    "# Prepare Testing Data Format\n",
    "print(X_test)\n",
    "y_test = y_test.values.ravel()\n",
    "print(y_test)"
   ]
  },
  {
   "cell_type": "code",
   "execution_count": 131,
   "id": "5bb411f2",
   "metadata": {},
   "outputs": [
    {
     "name": "stdout",
     "output_type": "stream",
     "text": [
      "[1 2 2 2 2 1 2 1 2 1 1 1 2 2 1 2 1 1 2 2 1 1 0 2 0 0 0 1 1 1 2 2 2 1 0 2 1\n",
      " 1 2 2 2 1 1 1 2 1 2 1 1 1 2 1 0 2 2 2 1 0 1 1 1 0 1 2 2 0 1 2 2 1 2 2 1 2\n",
      " 1 2 2 1 2 1 2 0 1 2 1 2 1 2 2 2 1 2 2 0 2 0 2 2 2 2 2 0 1 1 1 2 1 2 1 1 2\n",
      " 2 2 2 2 2 0 1 0 1 2 2 2 2 0 2 2 2 1 1 2 1 1 1 2 2 2 2 2 0 1 1 1 0 2 2 1 2\n",
      " 1 0 2 1 1 0 1 1 2 2 0 0 2 0 2 1 2 2 1 2 1 2 1 1 0 1 2 0 1 1 1 0 2 1 2 2 0\n",
      " 1 1 1 2 1 2 2 2 2 1 1 0 1 2 1 2 2 1 2 0 1 0 2 2 2 1 1 2 2 0 2 0 2 1 0 2 2\n",
      " 2 2 0 1 2 0 1 1 1 2 2 2 2 1 2 1 2 2 1 2 1 2 0 1 2 1 1 0 2 2 2 1 0 2 2 0 1\n",
      " 2 2 2 1 2 2 1 2 1 1 1 2 0 1 2 2 1 1 2 2 1 0 2 1 1 0 0 2 1 2 1 2 1 2 2 1 2\n",
      " 2 0 1 0 1 2 1 0 0 1 2 2 0 1 1 1 0 1 2 1 1 1 1 2 2 2 2 1 0 2 2 2 2 1 0 0 2\n",
      " 0 0 0 2 2 2 2 0 2 2 0 1 2 1 2 2 1 1 2 2 2 1 2 2 2 1 2 1 2 2 1 2 2 2 2 2 1\n",
      " 0 0 2 2 2 1 0 2 2 2 2 2 2 2 2 2 2 2 1 1 2 0 1 2 1 1 2 2 2 2 2 0 2 1 2 1 2\n",
      " 0 2 2 2 1 1 2 1 2 1 0 1 2 2 2 2 0 1 2 2 0 2 2 2 1 2 2 1 2 0 1 2 2 2 1 1 2\n",
      " 2 2 2 0 1 1 2 1 2 0 1 1 2 1 2 0 2 1 1 2 2 2 2 2 2 1 2 1 1 2 2 0 1 1 1 2 0\n",
      " 2 0 1 0 1 2 2 1 2 2 2 1 2 0 2 2 2 1 2 0 2 2 2 1 1 2 2 1 2 0 2 2 2 1 0 2 2\n",
      " 1 1 1 2 0 2 0 2 1 2 1 1 1 2 2 2 2 1 2 2 2 2 2 0 1 2 1 2 1 0 2 1 2 2 1 0 2\n",
      " 2 2 0 2 1 2 0 1 2 2 1 2 1 2 0 1 2 1 2 2 0 0 2 2 2 1 1 2 2 2 0 2 1 2 2 2 1\n",
      " 2 1 1 1 2 1 2 0 1 2 0 2 1 2 2 2 0 2 1 1 2 2 2 2 2 1 2 2 1 1 1 1 2 1 1 1 2\n",
      " 2 1 2 1 2 2 1 0 2 2 2 1 0 2 0 2 2 0 2 2 2 1 1 2 1]\n"
     ]
    }
   ],
   "source": [
    "# Make y_test into numpy array of int instead of float\n",
    "y_test = y_test.astype(int)\n",
    "print(y_test)"
   ]
  },
  {
   "cell_type": "code",
   "execution_count": 132,
   "id": "bb686cb7",
   "metadata": {},
   "outputs": [
    {
     "name": "stdout",
     "output_type": "stream",
     "text": [
      "Class 0: 96 instances\n",
      "Class 1: 224 instances\n",
      "Class 2: 334 instances\n"
     ]
    }
   ],
   "source": [
    "# Check Class Ratios \n",
    "\n",
    "unique_classes, class_counts = np.unique(y_test, return_counts=True)\n",
    "\n",
    "for cls, count in zip(unique_classes, class_counts):\n",
    "    print(f\"Class {cls}: {count} instances\")"
   ]
  },
  {
   "cell_type": "code",
   "execution_count": 133,
   "id": "acfd39dc",
   "metadata": {},
   "outputs": [],
   "source": [
    "# Predictions \n",
    "y_pred = best_model.predict(X_test)"
   ]
  },
  {
   "cell_type": "code",
   "execution_count": 134,
   "id": "fbed449e",
   "metadata": {},
   "outputs": [
    {
     "name": "stdout",
     "output_type": "stream",
     "text": [
      "              precision    recall  f1-score   support\n",
      "\n",
      "           0       0.69      0.76      0.72        96\n",
      "           1       0.73      0.71      0.72       224\n",
      "           2       0.90      0.89      0.89       334\n",
      "\n",
      "    accuracy                           0.81       654\n",
      "   macro avg       0.77      0.79      0.78       654\n",
      "weighted avg       0.81      0.81      0.81       654\n",
      "\n",
      "0.8073394495412844\n"
     ]
    }
   ],
   "source": [
    "from sklearn.metrics import classification_report\n",
    "from sklearn.metrics import accuracy_score\n",
    "\n",
    "print(classification_report(y_test, y_pred))\n",
    "print(accuracy_score(y_test, y_pred))"
   ]
  },
  {
   "cell_type": "code",
   "execution_count": 135,
   "id": "a3127da5",
   "metadata": {},
   "outputs": [
    {
     "name": "stdout",
     "output_type": "stream",
     "text": [
      "Feature: grid_start_pos, Importance: 0.2046\n",
      "Feature: statusId, Importance: 0.1676\n",
      "Feature: fast_lap_rank, Importance: 0.1544\n",
      "Feature: driverId, Importance: 0.0597\n",
      "Feature: laps, Importance: 0.0575\n",
      "Feature: constructorId, Importance: 0.0536\n",
      "Feature: avg_lap_time, Importance: 0.0533\n",
      "Feature: fastest_lap, Importance: 0.0432\n",
      "Feature: fastest_lap_time, Importance: 0.0426\n",
      "Feature: fastest_lap_speed, Importance: 0.0403\n",
      "Feature: raceId, Importance: 0.0309\n",
      "Feature: num_pit_stops, Importance: 0.0270\n",
      "Feature: round, Importance: 0.0245\n",
      "Feature: circuitId, Importance: 0.0214\n",
      "Feature: year, Importance: 0.0193\n"
     ]
    }
   ],
   "source": [
    "feature_importances = best_model.feature_importances_\n",
    "\n",
    "# Create a mapping between feature names and their importances\n",
    "feature_importance_mapping = dict(zip(X_train.columns, feature_importances))\n",
    "\n",
    "# Sort the features by importance (descending order)\n",
    "sorted_features = sorted(feature_importance_mapping.items(), key=lambda x: x[1], reverse=True)\n",
    "\n",
    "# Print or visualize the sorted feature importances\n",
    "for feature, importance in sorted_features:\n",
    "    print(f\"Feature: {feature}, Importance: {importance:.4f}\")"
   ]
  },
  {
   "cell_type": "code",
   "execution_count": 136,
   "id": "1741bcee",
   "metadata": {},
   "outputs": [
    {
     "name": "stdout",
     "output_type": "stream",
     "text": [
      "     raceId  driverId  constructorId  grid_start_pos  laps  fastest_lap   \n",
      "0      1074       844              6               1    57         51.0  \\\n",
      "1      1074       832              6               3    57         52.0   \n",
      "2      1074         1            131               5    57         53.0   \n",
      "3      1074       847            131               9    57         56.0   \n",
      "4      1074       825            210               7    57         53.0   \n",
      "..      ...       ...            ...             ...   ...          ...   \n",
      "435    1096       854            210              12    57         39.0   \n",
      "436    1096       825            210              16    57         40.0   \n",
      "437    1096         1            131               5    55         42.0   \n",
      "438    1096       849              3              20    55         45.0   \n",
      "439    1096         4            214              10    27         24.0   \n",
      "\n",
      "     fast_lap_rank  fastest_lap_time  fastest_lap_speed  statusId  year   \n",
      "0                1           94570.0            206.018         1  2022  \\\n",
      "1                3           95740.0            203.501         1  2022   \n",
      "2                5           96228.0            202.469         1  2022   \n",
      "3                6           96302.0            202.313         1  2022   \n",
      "4                8           96623.0            201.641         1  2022   \n",
      "..             ...               ...                ...       ...   ...   \n",
      "435             12           89833.0            211.632        11  2022   \n",
      "436             20           91158.0            208.556        11  2022   \n",
      "437             11           89788.0            211.738         9  2022   \n",
      "438             14           90309.0            210.517       130  2022   \n",
      "439             17           90579.0            209.889        47  2022   \n",
      "\n",
      "     round  circuitId  num_pit_stops  avg_lap_time  finish_domain_encoded  \n",
      "0        1          3            3.0    102694.456                    0.0  \n",
      "1        1          3            3.0    102792.667                    0.0  \n",
      "2        1          3            3.0    102864.193                    0.0  \n",
      "3        1          3            3.0    102891.140                    1.0  \n",
      "4        1          3            3.0    102953.298                    1.0  \n",
      "..     ...        ...            ...           ...                    ...  \n",
      "435     22         24            2.0     93069.895                    2.0  \n",
      "436     22         24            1.0     93274.421                    2.0  \n",
      "437     22         24            1.0     91945.218                    2.0  \n",
      "438     22         24            2.0     94472.509                    2.0  \n",
      "439     22         24            1.0     93094.630                    2.0  \n",
      "\n",
      "[440 rows x 16 columns]\n"
     ]
    }
   ],
   "source": [
    "# Current Data \n",
    "\n",
    "current_data = pd.read_csv(\"s3://f1-ml-project-data/input_data/current_season_f1_data\").drop(columns=['Unnamed: 0',\n",
    "                                                                           'driver_pos', 'driver_points',\n",
    "                                                                           'milliseconds', 'constructor_position',\n",
    "                                                                           'constructor_points'])\n",
    "print(current_data)"
   ]
  },
  {
   "cell_type": "code",
   "execution_count": 137,
   "id": "ba5a10d9",
   "metadata": {},
   "outputs": [
    {
     "name": "stdout",
     "output_type": "stream",
     "text": [
      "     raceId  driverId  constructorId  grid_start_pos  laps  fastest_lap   \n",
      "0      1074       844              6               1    57         51.0  \\\n",
      "1      1074       832              6               3    57         52.0   \n",
      "2      1074         1            131               5    57         53.0   \n",
      "3      1074       847            131               9    57         56.0   \n",
      "4      1074       825            210               7    57         53.0   \n",
      "..      ...       ...            ...             ...   ...          ...   \n",
      "435    1096       854            210              12    57         39.0   \n",
      "436    1096       825            210              16    57         40.0   \n",
      "437    1096         1            131               5    55         42.0   \n",
      "438    1096       849              3              20    55         45.0   \n",
      "439    1096         4            214              10    27         24.0   \n",
      "\n",
      "     fast_lap_rank  fastest_lap_time  fastest_lap_speed  statusId  year   \n",
      "0                1           94570.0            206.018         1  2022  \\\n",
      "1                3           95740.0            203.501         1  2022   \n",
      "2                5           96228.0            202.469         1  2022   \n",
      "3                6           96302.0            202.313         1  2022   \n",
      "4                8           96623.0            201.641         1  2022   \n",
      "..             ...               ...                ...       ...   ...   \n",
      "435             12           89833.0            211.632        11  2022   \n",
      "436             20           91158.0            208.556        11  2022   \n",
      "437             11           89788.0            211.738         9  2022   \n",
      "438             14           90309.0            210.517       130  2022   \n",
      "439             17           90579.0            209.889        47  2022   \n",
      "\n",
      "     round  circuitId  num_pit_stops  avg_lap_time  \n",
      "0        1          3            3.0    102694.456  \n",
      "1        1          3            3.0    102792.667  \n",
      "2        1          3            3.0    102864.193  \n",
      "3        1          3            3.0    102891.140  \n",
      "4        1          3            3.0    102953.298  \n",
      "..     ...        ...            ...           ...  \n",
      "435     22         24            2.0     93069.895  \n",
      "436     22         24            1.0     93274.421  \n",
      "437     22         24            1.0     91945.218  \n",
      "438     22         24            2.0     94472.509  \n",
      "439     22         24            1.0     93094.630  \n",
      "\n",
      "[440 rows x 15 columns]\n",
      "0      0.0\n",
      "1      0.0\n",
      "2      0.0\n",
      "3      1.0\n",
      "4      1.0\n",
      "      ... \n",
      "435    2.0\n",
      "436    2.0\n",
      "437    2.0\n",
      "438    2.0\n",
      "439    2.0\n",
      "Name: finish_domain_encoded, Length: 440, dtype: float64\n"
     ]
    }
   ],
   "source": [
    "# Split into feature and target sets\n",
    "X_current = current_data.drop(columns=['finish_domain_encoded'])\n",
    "y_current = current_data['finish_domain_encoded']\n",
    "\n",
    "print(X_current)\n",
    "print(y_current)"
   ]
  },
  {
   "cell_type": "code",
   "execution_count": 138,
   "id": "e88dd2a5",
   "metadata": {},
   "outputs": [
    {
     "name": "stdout",
     "output_type": "stream",
     "text": [
      "raceId                0\n",
      "driverId              0\n",
      "constructorId         0\n",
      "grid_start_pos        0\n",
      "laps                  0\n",
      "fastest_lap          14\n",
      "fast_lap_rank         0\n",
      "fastest_lap_time     14\n",
      "fastest_lap_speed    14\n",
      "statusId              0\n",
      "year                  0\n",
      "round                 0\n",
      "circuitId             0\n",
      "num_pit_stops        30\n",
      "avg_lap_time         11\n",
      "dtype: int64\n",
      "raceId               0\n",
      "driverId             0\n",
      "constructorId        0\n",
      "grid_start_pos       0\n",
      "laps                 0\n",
      "fastest_lap          0\n",
      "fast_lap_rank        0\n",
      "fastest_lap_time     0\n",
      "fastest_lap_speed    0\n",
      "statusId             0\n",
      "year                 0\n",
      "round                0\n",
      "circuitId            0\n",
      "num_pit_stops        0\n",
      "avg_lap_time         0\n",
      "dtype: int64\n"
     ]
    }
   ],
   "source": [
    "# Impute Missing Values for X_train\n",
    "from sklearn.impute import KNNImputer\n",
    "\n",
    "print(X_current.isna().sum())\n",
    "\n",
    "current_imputer = KNNImputer(n_neighbors=5)\n",
    "X_current_imputed = current_imputer.fit_transform(X_current)\n",
    "X_current = pd.DataFrame(X_current_imputed, columns=X_current.columns)\n",
    "\n",
    "print(X_current.isna().sum())"
   ]
  },
  {
   "cell_type": "code",
   "execution_count": 139,
   "id": "4a3c0b2f",
   "metadata": {},
   "outputs": [
    {
     "name": "stdout",
     "output_type": "stream",
     "text": [
      "     raceId  driverId  constructorId  grid_start_pos  laps  fastest_lap   \n",
      "0    1074.0     844.0            6.0             1.0  57.0         51.0  \\\n",
      "1    1074.0     832.0            6.0             3.0  57.0         52.0   \n",
      "2    1074.0       1.0          131.0             5.0  57.0         53.0   \n",
      "3    1074.0     847.0          131.0             9.0  57.0         56.0   \n",
      "4    1074.0     825.0          210.0             7.0  57.0         53.0   \n",
      "..      ...       ...            ...             ...   ...          ...   \n",
      "435  1096.0     854.0          210.0            12.0  57.0         39.0   \n",
      "436  1096.0     825.0          210.0            16.0  57.0         40.0   \n",
      "437  1096.0       1.0          131.0             5.0  55.0         42.0   \n",
      "438  1096.0     849.0            3.0            20.0  55.0         45.0   \n",
      "439  1096.0       4.0          214.0            10.0  27.0         24.0   \n",
      "\n",
      "     fast_lap_rank  fastest_lap_time  fastest_lap_speed  statusId    year   \n",
      "0              1.0           94570.0            206.018       1.0  2022.0  \\\n",
      "1              3.0           95740.0            203.501       1.0  2022.0   \n",
      "2              5.0           96228.0            202.469       1.0  2022.0   \n",
      "3              6.0           96302.0            202.313       1.0  2022.0   \n",
      "4              8.0           96623.0            201.641       1.0  2022.0   \n",
      "..             ...               ...                ...       ...     ...   \n",
      "435           12.0           89833.0            211.632      11.0  2022.0   \n",
      "436           20.0           91158.0            208.556      11.0  2022.0   \n",
      "437           11.0           89788.0            211.738       9.0  2022.0   \n",
      "438           14.0           90309.0            210.517     130.0  2022.0   \n",
      "439           17.0           90579.0            209.889      47.0  2022.0   \n",
      "\n",
      "     round  circuitId  num_pit_stops  avg_lap_time  \n",
      "0      1.0        3.0            3.0    102694.456  \n",
      "1      1.0        3.0            3.0    102792.667  \n",
      "2      1.0        3.0            3.0    102864.193  \n",
      "3      1.0        3.0            3.0    102891.140  \n",
      "4      1.0        3.0            3.0    102953.298  \n",
      "..     ...        ...            ...           ...  \n",
      "435   22.0       24.0            2.0     93069.895  \n",
      "436   22.0       24.0            1.0     93274.421  \n",
      "437   22.0       24.0            1.0     91945.218  \n",
      "438   22.0       24.0            2.0     94472.509  \n",
      "439   22.0       24.0            1.0     93094.630  \n",
      "\n",
      "[440 rows x 15 columns]\n",
      "[0. 0. 0. 1. 1. 1. 1. 1. 1. 1. 2. 2. 2. 2. 2. 2. 2. 2. 2. 2. 0. 0. 0. 1.\n",
      " 1. 1. 1. 1. 1. 1. 2. 2. 2. 2. 2. 2. 2. 2. 2. 2. 0. 0. 0. 1. 1. 1. 1. 1.\n",
      " 1. 1. 2. 2. 2. 2. 2. 2. 2. 2. 2. 2. 0. 0. 0. 1. 1. 1. 1. 1. 1. 1. 2. 2.\n",
      " 2. 2. 2. 2. 2. 2. 2. 2. 0. 0. 0. 1. 1. 1. 1. 1. 1. 1. 2. 2. 2. 2. 2. 2.\n",
      " 2. 2. 2. 2. 0. 0. 0. 1. 1. 1. 1. 1. 1. 1. 2. 2. 2. 2. 2. 2. 2. 2. 2. 2.\n",
      " 0. 0. 0. 1. 1. 1. 1. 1. 1. 1. 2. 2. 2. 2. 2. 2. 2. 2. 2. 2. 0. 0. 0. 1.\n",
      " 1. 1. 1. 1. 1. 1. 2. 2. 2. 2. 2. 2. 2. 2. 2. 2. 0. 0. 0. 1. 1. 1. 1. 1.\n",
      " 1. 1. 2. 2. 2. 2. 2. 2. 2. 2. 2. 2. 0. 0. 0. 1. 1. 1. 1. 1. 1. 1. 2. 2.\n",
      " 2. 2. 2. 2. 2. 2. 2. 2. 0. 0. 0. 1. 1. 1. 1. 1. 1. 1. 2. 2. 2. 2. 2. 2.\n",
      " 2. 2. 2. 2. 0. 0. 0. 1. 1. 1. 1. 1. 1. 1. 2. 2. 2. 2. 2. 2. 2. 2. 2. 2.\n",
      " 0. 0. 0. 1. 1. 1. 1. 1. 1. 1. 2. 2. 2. 2. 2. 2. 2. 2. 2. 2. 0. 0. 0. 1.\n",
      " 1. 1. 1. 1. 1. 1. 2. 2. 2. 2. 2. 2. 2. 2. 2. 2. 0. 0. 0. 1. 1. 1. 1. 1.\n",
      " 1. 1. 2. 2. 2. 2. 2. 2. 2. 2. 2. 2. 0. 0. 0. 1. 1. 1. 1. 1. 1. 1. 2. 2.\n",
      " 2. 2. 2. 2. 2. 2. 2. 2. 0. 0. 0. 1. 1. 1. 1. 1. 1. 1. 2. 2. 2. 2. 2. 2.\n",
      " 2. 2. 2. 2. 0. 0. 0. 1. 1. 1. 1. 1. 1. 1. 2. 2. 2. 2. 2. 2. 2. 2. 2. 2.\n",
      " 0. 0. 0. 1. 1. 1. 1. 1. 1. 1. 2. 2. 2. 2. 2. 2. 2. 2. 2. 2. 0. 0. 0. 1.\n",
      " 1. 1. 1. 1. 1. 1. 2. 2. 2. 2. 2. 2. 2. 2. 2. 2. 0. 0. 0. 1. 1. 1. 1. 1.\n",
      " 1. 1. 2. 2. 2. 2. 2. 2. 2. 2. 2. 2. 0. 0. 0. 1. 1. 1. 1. 1. 1. 1. 2. 2.\n",
      " 2. 2. 2. 2. 2. 2. 2. 2.]\n"
     ]
    }
   ],
   "source": [
    "# Prepare Testing Data Format\n",
    "\n",
    "print(X_current)\n",
    "y_current = y_current.values.ravel()\n",
    "print(y_current)"
   ]
  },
  {
   "cell_type": "code",
   "execution_count": 140,
   "id": "34266dce",
   "metadata": {},
   "outputs": [
    {
     "name": "stdout",
     "output_type": "stream",
     "text": [
      "[0 0 0 1 1 1 1 1 1 1 2 2 2 2 2 2 2 2 2 2 0 0 0 1 1 1 1 1 1 1 2 2 2 2 2 2 2\n",
      " 2 2 2 0 0 0 1 1 1 1 1 1 1 2 2 2 2 2 2 2 2 2 2 0 0 0 1 1 1 1 1 1 1 2 2 2 2\n",
      " 2 2 2 2 2 2 0 0 0 1 1 1 1 1 1 1 2 2 2 2 2 2 2 2 2 2 0 0 0 1 1 1 1 1 1 1 2\n",
      " 2 2 2 2 2 2 2 2 2 0 0 0 1 1 1 1 1 1 1 2 2 2 2 2 2 2 2 2 2 0 0 0 1 1 1 1 1\n",
      " 1 1 2 2 2 2 2 2 2 2 2 2 0 0 0 1 1 1 1 1 1 1 2 2 2 2 2 2 2 2 2 2 0 0 0 1 1\n",
      " 1 1 1 1 1 2 2 2 2 2 2 2 2 2 2 0 0 0 1 1 1 1 1 1 1 2 2 2 2 2 2 2 2 2 2 0 0\n",
      " 0 1 1 1 1 1 1 1 2 2 2 2 2 2 2 2 2 2 0 0 0 1 1 1 1 1 1 1 2 2 2 2 2 2 2 2 2\n",
      " 2 0 0 0 1 1 1 1 1 1 1 2 2 2 2 2 2 2 2 2 2 0 0 0 1 1 1 1 1 1 1 2 2 2 2 2 2\n",
      " 2 2 2 2 0 0 0 1 1 1 1 1 1 1 2 2 2 2 2 2 2 2 2 2 0 0 0 1 1 1 1 1 1 1 2 2 2\n",
      " 2 2 2 2 2 2 2 0 0 0 1 1 1 1 1 1 1 2 2 2 2 2 2 2 2 2 2 0 0 0 1 1 1 1 1 1 1\n",
      " 2 2 2 2 2 2 2 2 2 2 0 0 0 1 1 1 1 1 1 1 2 2 2 2 2 2 2 2 2 2 0 0 0 1 1 1 1\n",
      " 1 1 1 2 2 2 2 2 2 2 2 2 2 0 0 0 1 1 1 1 1 1 1 2 2 2 2 2 2 2 2 2 2]\n"
     ]
    }
   ],
   "source": [
    "# Make y_test into numpy array of int instead of float\n",
    "y_current = y_current.astype(int)\n",
    "print(y_current)"
   ]
  },
  {
   "cell_type": "code",
   "execution_count": 141,
   "id": "0071dc0b",
   "metadata": {},
   "outputs": [
    {
     "name": "stdout",
     "output_type": "stream",
     "text": [
      "Class 0: 66 instances\n",
      "Class 1: 154 instances\n",
      "Class 2: 220 instances\n"
     ]
    }
   ],
   "source": [
    "# Check Class Ratios \n",
    "\n",
    "unique_classes, class_counts = np.unique(y_current, return_counts=True)\n",
    "\n",
    "for cls, count in zip(unique_classes, class_counts):\n",
    "    print(f\"Class {cls}: {count} instances\")"
   ]
  },
  {
   "cell_type": "code",
   "execution_count": 142,
   "id": "cb451ba1",
   "metadata": {},
   "outputs": [],
   "source": [
    "# Predictions on new 2022 Data\n",
    "\n",
    "y_current_pred = best_model.predict(X_current)"
   ]
  },
  {
   "cell_type": "code",
   "execution_count": 143,
   "id": "4e3f45ff",
   "metadata": {},
   "outputs": [
    {
     "name": "stdout",
     "output_type": "stream",
     "text": [
      "              precision    recall  f1-score   support\n",
      "\n",
      "           0       0.81      0.65      0.72        66\n",
      "           1       0.61      0.81      0.69       154\n",
      "           2       0.90      0.74      0.81       220\n",
      "\n",
      "    accuracy                           0.75       440\n",
      "   macro avg       0.77      0.73      0.74       440\n",
      "weighted avg       0.78      0.75      0.76       440\n",
      "\n",
      "0.75\n"
     ]
    }
   ],
   "source": [
    "# Evaluate\n",
    "from sklearn.metrics import classification_report\n",
    "from sklearn.metrics import accuracy_score\n",
    "\n",
    "print(classification_report(y_current, y_current_pred))\n",
    "print(accuracy_score(y_current, y_current_pred))"
   ]
  },
  {
   "cell_type": "code",
   "execution_count": 144,
   "id": "b9dbe8c8",
   "metadata": {},
   "outputs": [
    {
     "data": {
      "image/png": "[encoded data removed]",
      "text/plain": [
       "<Figure size 1600x700 with 2 Axes>"
      ]
     },
     "metadata": {},
     "output_type": "display_data"
    }
   ],
   "source": [
    "from sklearn.metrics import confusion_matrix\n",
    "import matplotlib.pyplot as plt\n",
    "import seaborn as sns\n",
    "import numpy as np\n",
    "\n",
    "# Get and reshape confusion matrix data\n",
    "matrix = confusion_matrix(y_current, y_current_pred)\n",
    "matrix = matrix.astype('float') / matrix.sum(axis=1)[:, np.newaxis]\n",
    "\n",
    "# Build the plot\n",
    "plt.figure(figsize=(16,7))\n",
    "sns.set(font_scale=1.4)\n",
    "sns.heatmap(matrix, annot=True, annot_kws={'size':10},\n",
    "            cmap=plt.cm.Greens, linewidths=0.2)\n",
    "\n",
    "# Add labels to the plot\n",
    "class_names = ['Podium', 'Points', 'No Points']\n",
    "tick_marks = np.arange(len(class_names))\n",
    "tick_marks2 = tick_marks + 0.5\n",
    "plt.xticks(tick_marks, class_names, rotation=25)\n",
    "plt.yticks(tick_marks2, class_names, rotation=0)\n",
    "plt.xlabel('Predicted label')\n",
    "plt.ylabel('True label')\n",
    "plt.title('Confusion Matrix for Random Forest Model')\n",
    "plt.show()"
   ]
  },
  {
   "cell_type": "code",
   "execution_count": 146,
   "id": "61572fe1",
   "metadata": {},
   "outputs": [],
   "source": [
    "# Save Model\n",
    "import joblib\n",
    "import os\n",
    "\n",
    "local_model_path_rf_SVM = \"rf_model_SVM.joblib\"\n",
    "joblib.dump(best_model, local_model_path_rf_SVM)\n",
    "\n",
    "# Upload to S3 Bucket\n",
    "s3_bucket = 'f1-ml-project-data'\n",
    "s3_folder = 'output_data'\n",
    "s3_key = os.path.join(s3_folder, 'rf_model_SVM.joblib')\n",
    "\n",
    "s3_client = boto3.client('s3')\n",
    "\n",
    "s3_client.upload_file(local_model_path_rf_SVM, s3_bucket, s3_key)"
   ]
  }
 ],
 "metadata": {
  "kernelspec": {
   "display_name": "conda_python3",
   "language": "python",
   "name": "conda_python3"
  },
  "language_info": {
   "codemirror_mode": {
    "name": "ipython",
    "version": 3
   },
   "file_extension": ".py",
   "mimetype": "text/x-python",
   "name": "python",
   "nbconvert_exporter": "python",
   "pygments_lexer": "ipython3",
   "version": "3.10.10"
  }
 },
 "nbformat": 4,
 "nbformat_minor": 5
}
